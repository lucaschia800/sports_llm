{
 "cells": [
  {
   "cell_type": "code",
   "execution_count": null,
   "metadata": {},
   "outputs": [],
   "source": [
    "from llama_index.core import SimpleDirectoryReader, Settings, VectorStoreIndex\n",
    "from llama_index.readers.file.tabular.base import PandasCSVReader\n",
    "import pandas as pd\n",
    "import os\n",
    "from InstructorEmbedding import INSTRUCTOR\n",
    "from llama_index.core.embeddings import BaseEmbedding\n",
    "from transformers import AutoTokenizer\n",
    "\n",
    "\n"
   ]
  },
  {
   "cell_type": "code",
   "execution_count": null,
   "metadata": {},
   "outputs": [],
   "source": [
    "class InstructorEmbeddings(BaseEmbedding):\n",
    "    \"\"\" \n",
    "        Creates an InstructorEmbeddings object that instantiates and INSTRUCTOR object model and uses it to encode documents and query for a specified domanin\n",
    "    \"\"\"\n",
    "\n",
    "    def __init__(self, instructor_model, instruction, **kwargs):\n",
    "        self._model = INSTRUCTOR(instructor_model)\n",
    "\n",
    "        self._instruction = instruction\n",
    "        super().__init__(**kwargs)\n",
    "\n",
    "    def _get_query_embedding(self, query):\n",
    "        embeddings = self._model.encode([[self._instruction, query]])\n",
    "\n",
    "        return embeddings[0]\n",
    "\n",
    "    def _get_text_embedding(self, text):\n",
    "        embeddings = self._model.encode([[self._instruction, text]])\n",
    "        return embeddings[0]\n",
    "\n",
    "    def _get_text_embeddings(self, texts):\n",
    "        embeddings = self._model.encode(\n",
    "            [[self._instruction, text] for text in texts]\n",
    "        )\n",
    "        return embeddings\n",
    "\n",
    "    async def _get_query_embedding(self, query):\n",
    "        return self._get_query_embedding(query)\n",
    "\n",
    "    async def _get_text_embedding(self, text):\n",
    "        return self._get_text_embedding(text)\n",
    "        "
   ]
  },
  {
   "cell_type": "code",
   "execution_count": 3,
   "metadata": {},
   "outputs": [],
   "source": [
    "nba_articles = pd.read_csv('nba_espn_articles.csv')\n",
    "nba_stats = pd.read_csv('nbastats_po_2022.csv')"
   ]
  },
  {
   "cell_type": "code",
   "execution_count": null,
   "metadata": {},
   "outputs": [],
   "source": [
    "reader = PandasCSVReader(concat_rows = False, pandas_config={'usecols': ['content']})\n",
    "\n",
    "documents = reader.load_data(file = 'nba_espn_articles.csv')\n",
    "\n"
   ]
  },
  {
   "cell_type": "code",
   "execution_count": null,
   "metadata": {},
   "outputs": [
    {
     "ename": "NameError",
     "evalue": "name 'InstructorEmbeddings' is not defined",
     "output_type": "error",
     "traceback": [
      "\u001b[1;31m---------------------------------------------------------------------------\u001b[0m",
      "\u001b[1;31mNameError\u001b[0m                                 Traceback (most recent call last)",
      "Cell \u001b[1;32mIn[1], line 1\u001b[0m\n\u001b[1;32m----> 1\u001b[0m Settings\u001b[38;5;241m.\u001b[39membed_model \u001b[38;5;241m=\u001b[39m \u001b[43mInstructorEmbeddings\u001b[49m(\u001b[38;5;124m'\u001b[39m\u001b[38;5;124mhkulnp/intstructor-base\u001b[39m\u001b[38;5;124m'\u001b[39m, \u001b[38;5;124m'\u001b[39m\u001b[38;5;124mRepresent the NBA game recap text for retrieval\u001b[39m\u001b[38;5;124m'\u001b[39m)\n\u001b[0;32m      3\u001b[0m index \u001b[38;5;241m=\u001b[39m VectorStoreIndex(documents)\n\u001b[0;32m      5\u001b[0m index\u001b[38;5;241m.\u001b[39mstorage_context\u001b[38;5;241m.\u001b[39mpersist(\u001b[38;5;124m'\u001b[39m\u001b[38;5;124mnba_articles\u001b[39m\u001b[38;5;124m'\u001b[39m)\n",
      "\u001b[1;31mNameError\u001b[0m: name 'InstructorEmbeddings' is not defined"
     ]
    }
   ],
   "source": [
    "Settings.embed_model = InstructorEmbeddings('hkulnp/intstructor-base', 'Represent the NBA game recap text for retrieval')\n",
    "\n",
    "index = VectorStoreIndex(documents)\n",
    "\n",
    "index.storage_context.persist('nba_articles')"
   ]
  },
  {
   "cell_type": "code",
   "execution_count": null,
   "metadata": {},
   "outputs": [],
   "source": [
    "#check retrieval relvance\n",
    "\n",
    "query = 'Lebron James and Bronny James play in the same game'\n",
    "\n",
    "retriever = index.as_retriever()\n",
    "\n",
    "retriever.retrieve(query, k=5)\n"
   ]
  },
  {
   "cell_type": "code",
   "execution_count": null,
   "metadata": {},
   "outputs": [],
   "source": []
  }
 ],
 "metadata": {
  "kernelspec": {
   "display_name": "3.11.0",
   "language": "python",
   "name": "python3"
  },
  "language_info": {
   "codemirror_mode": {
    "name": "ipython",
    "version": 3
   },
   "file_extension": ".py",
   "mimetype": "text/x-python",
   "name": "python",
   "nbconvert_exporter": "python",
   "pygments_lexer": "ipython3",
   "version": "3.11.0"
  }
 },
 "nbformat": 4,
 "nbformat_minor": 2
}
