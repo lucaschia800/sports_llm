{
 "cells": [
  {
   "cell_type": "code",
   "execution_count": 25,
   "metadata": {},
   "outputs": [],
   "source": [
    "from transformers import AutoModelForCausalLM, AutoTokenizer\n",
    "from datasets import Dataset, load_dataset\n",
    "from transformers import AutoModelForCausalLM, AutoTokenizer"
   ]
  },
  {
   "cell_type": "code",
   "execution_count": null,
   "metadata": {},
   "outputs": [],
   "source": [
    "model_name = 'meta-llama/Llama-3.1-8B'\n",
    "tokenizer = AutoTokenizer.from_pretrained(model_name)"
   ]
  },
  {
   "cell_type": "code",
   "execution_count": 28,
   "metadata": {},
   "outputs": [
    {
     "name": "stdout",
     "output_type": "stream",
     "text": [
      "{'train': ['sportsett_id', 'gem_id', 'game', 'teams', 'summaries', 'target', 'references', 'linearized_input'], 'test': ['sportsett_id', 'gem_id', 'game', 'teams', 'summaries', 'target', 'references', 'linearized_input'], 'validation': ['sportsett_id', 'gem_id', 'game', 'teams', 'summaries', 'target', 'references', 'linearized_input']}\n"
     ]
    }
   ],
   "source": [
    "ds = load_dataset('GEM/sportsett_basketball')\n",
    "print(ds.column_names)\n",
    "ds_train = ds['train']\n",
    "\n",
    "\n"
   ]
  },
  {
   "cell_type": "code",
   "execution_count": null,
   "metadata": {},
   "outputs": [
    {
     "name": "stderr",
     "output_type": "stream",
     "text": [
      "Map: 100%|██████████| 100/100 [00:00<00:00, 298.07 examples/s]\n"
     ]
    }
   ],
   "source": [
    "ds_tokenized = ds.map(lambda x: tokenizer(x['target'], truncation=True), batched=True)\n"
   ]
  },
  {
   "cell_type": "code",
   "execution_count": 33,
   "metadata": {},
   "outputs": [
    {
     "name": "stdout",
     "output_type": "stream",
     "text": [
      "318\n",
      "436\n",
      "490\n",
      "421\n",
      "441\n",
      "296\n",
      "544\n",
      "299\n",
      "343\n",
      "503\n"
     ]
    }
   ],
   "source": [
    "for i in range(10):\n",
    "    print(len(ds_tokenized[i]['input_ids']))"
   ]
  },
  {
   "cell_type": "code",
   "execution_count": null,
   "metadata": {},
   "outputs": [
    {
     "name": "stdout",
     "output_type": "stream",
     "text": [
      "['sportsett_id', 'gem_id', 'game', 'teams', 'summaries', 'target', 'references', 'linearized_input']\n",
      "{'input_ids': [128000, 791, 18045, 27162, 320, 508, 8, 24164, 279, 19895, 220, 4767, 388, 320, 15, 482, 220, 18, 8, 220, 8011, 482, 220, 4161, 389, 7884, 13, 11517, 426, 9451, 16957, 264, 1847, 482, 1579, 220, 966, 3585, 311, 733, 449, 8223, 43762, 304, 220, 1644, 4520, 13, 18747, 4584, 14804, 15916, 1903, 813, 27162, 17755, 1306, 7554, 279, 4553, 48674, 42386, 505, 31316, 15173, 13, 4584, 14804, 15916, 3782, 1022, 279, 13731, 323, 6476, 220, 806, 4520, 13, 36285, 818, 13926, 574, 3131, 1578, 279, 27795, 520, 2410, 4741, 304, 4584, 14804, 15916, 6, 17269, 13, 13926, 8220, 449, 220, 868, 3585, 323, 2380, 2380, 482, 28554, 304, 220, 1682, 4520, 13, 24270, 921, 7828, 388, 16957, 220, 972, 3585, 304, 220, 914, 4520, 1022, 279, 13731, 13, 14103, 12131, 51365, 1494, 264, 386, 2182, 12860, 11517, 11605, 304, 279, 6041, 28612, 369, 279, 19198, 388, 389, 7884, 13, 25518, 285, 26224, 30073, 1523, 311, 279, 6041, 10658, 7771, 2683, 311, 1304, 3130, 369, 51365, 1494, 264, 386, 2182, 13, 51365, 1494, 264, 386, 2182, 8220, 449, 11888, 3585, 323, 8254, 43762, 304, 220, 777, 4520, 13, 735, 3587, 13, 51353, 5676, 2053, 11, 889, 16654, 264, 9099, 18638, 5882, 269, 11134, 304, 6740, 596, 1847, 11, 574, 2561, 323, 6476, 220, 1691, 4520, 1022, 279, 13731, 11, 25270, 449, 8223, 3585, 323, 2380, 10215, 13, 8096, 25581, 12, 62939, 374, 3685, 311, 387, 704, 3156, 4723, 13, 220, 1032, 11, 719, 19036, 468, 299, 2002, 9731, 311, 2231, 709, 16358, 5219, 304, 25581, 12, 62939, 6, 19821, 13, 468, 299, 2002, 8220, 449, 264, 2033, 482, 2033, 315, 220, 1691, 3585, 323, 220, 605, 29944, 304, 220, 1644, 4520, 13, 578, 27162, 690, 4686, 264, 1203, 482, 311, 482, 1203, 743, 520, 2162, 7418, 2403, 279, 350, 1540, 2117, 74678, 13, 578, 19198, 388, 6, 1828, 1847, 374, 520, 2162, 7159, 2403, 279, 16386, 62000, 13], 'attention_mask': [1, 1, 1, 1, 1, 1, 1, 1, 1, 1, 1, 1, 1, 1, 1, 1, 1, 1, 1, 1, 1, 1, 1, 1, 1, 1, 1, 1, 1, 1, 1, 1, 1, 1, 1, 1, 1, 1, 1, 1, 1, 1, 1, 1, 1, 1, 1, 1, 1, 1, 1, 1, 1, 1, 1, 1, 1, 1, 1, 1, 1, 1, 1, 1, 1, 1, 1, 1, 1, 1, 1, 1, 1, 1, 1, 1, 1, 1, 1, 1, 1, 1, 1, 1, 1, 1, 1, 1, 1, 1, 1, 1, 1, 1, 1, 1, 1, 1, 1, 1, 1, 1, 1, 1, 1, 1, 1, 1, 1, 1, 1, 1, 1, 1, 1, 1, 1, 1, 1, 1, 1, 1, 1, 1, 1, 1, 1, 1, 1, 1, 1, 1, 1, 1, 1, 1, 1, 1, 1, 1, 1, 1, 1, 1, 1, 1, 1, 1, 1, 1, 1, 1, 1, 1, 1, 1, 1, 1, 1, 1, 1, 1, 1, 1, 1, 1, 1, 1, 1, 1, 1, 1, 1, 1, 1, 1, 1, 1, 1, 1, 1, 1, 1, 1, 1, 1, 1, 1, 1, 1, 1, 1, 1, 1, 1, 1, 1, 1, 1, 1, 1, 1, 1, 1, 1, 1, 1, 1, 1, 1, 1, 1, 1, 1, 1, 1, 1, 1, 1, 1, 1, 1, 1, 1, 1, 1, 1, 1, 1, 1, 1, 1, 1, 1, 1, 1, 1, 1, 1, 1, 1, 1, 1, 1, 1, 1, 1, 1, 1, 1, 1, 1, 1, 1, 1, 1, 1, 1, 1, 1, 1, 1, 1, 1, 1, 1, 1, 1, 1, 1, 1, 1, 1, 1, 1, 1, 1, 1, 1, 1, 1, 1, 1, 1, 1, 1, 1, 1, 1, 1, 1, 1, 1, 1, 1, 1, 1, 1, 1, 1, 1, 1, 1, 1, 1, 1, 1, 1, 1, 1, 1, 1, 1, 1, 1, 1, 1, 1]}\n"
     ]
    }
   ],
   "source": []
  },
  {
   "cell_type": "code",
   "execution_count": 15,
   "metadata": {},
   "outputs": [
    {
     "name": "stdout",
     "output_type": "stream",
     "text": [
      "['input_ids', 'attention_mask']\n"
     ]
    }
   ],
   "source": [
    "print(tokenizer.model_input_names)"
   ]
  }
 ],
 "metadata": {
  "kernelspec": {
   "display_name": "3.11.0",
   "language": "python",
   "name": "python3"
  },
  "language_info": {
   "codemirror_mode": {
    "name": "ipython",
    "version": 3
   },
   "file_extension": ".py",
   "mimetype": "text/x-python",
   "name": "python",
   "nbconvert_exporter": "python",
   "pygments_lexer": "ipython3",
   "version": "3.11.0"
  }
 },
 "nbformat": 4,
 "nbformat_minor": 2
}
