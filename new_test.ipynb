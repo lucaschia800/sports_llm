{
 "cells": [
  {
   "cell_type": "code",
   "execution_count": null,
   "metadata": {},
   "outputs": [],
   "source": [
    "import openai\n",
    "import sqlite3\n",
    "import pandas as pd\n",
    "from langchain_openai import ChatOpenAI\n",
    "import os\n",
    "from sqlalchemy import create_engine\n",
    "import numpy as np\n",
    "import sqlalchemy\n",
    "from openai import OpenAI\n",
    "from llama_index.core import SQLDatabase  # ✅ Correct Import\n",
    "from llama_index.llms.openai import OpenAI\n",
    "from sqlalchemy import text\n",
    "from llama_index.core.query_engine import NLSQLTableQueryEngine\n",
    "\n",
    "\n",
    "\n",
    "\n",
    "\n",
    "\n",
    "os.environ['OPENAI_API_KEY'] = \"\"\n"
   ]
  },
  {
   "cell_type": "code",
   "execution_count": null,
   "metadata": {},
   "outputs": [],
   "source": [
    "# import nba_on_court as noc\n",
    "# noc.load_nba_data(seasons=2022, data=('nbastats', 'pbpstats'), seasontype='po', untar=True)\n"
   ]
  },
  {
   "cell_type": "code",
   "execution_count": null,
   "metadata": {},
   "outputs": [],
   "source": [
    "nbastats = pd.read_csv('nbastats_po_2022.csv')\n",
    "pbpstats = pd.read_csv('pbpstats_po_2022.csv')"
   ]
  },
  {
   "cell_type": "code",
   "execution_count": null,
   "metadata": {},
   "outputs": [],
   "source": [
    "# Define database name\n",
    "db_path = \"nba_database.sqlite\"\n",
    "\n",
    "# Connect to SQLite\n",
    "conn = sqlite3.connect(db_path)\n",
    "\n",
    "# Read CSV files into Pandas DataFrames\n",
    "nbastats = pd.read_csv('nbastats_po_2022.csv')\n",
    "pbpstats = pd.read_csv('pbpstats_po_2022.csv')\n",
    "\n",
    "# Store data in SQLite tables\n",
    "nbastats.to_sql(\"nba_stats_2022\", conn, if_exists=\"replace\", index=False)\n",
    "pbpstats.to_sql(\"pbp_stats_2022\", conn, if_exists=\"replace\", index=False)\n",
    "\n",
    "# Verify table creation\n",
    "cursor = conn.cursor()\n",
    "cursor.execute(\"SELECT COUNT(*) FROM nba_stats_2022;\")\n",
    "nbastats_count = cursor.fetchone()[0]\n",
    "\n",
    "cursor.execute(\"SELECT COUNT(*) FROM pbp_stats_2022;\")\n",
    "pbpstats_count = cursor.fetchone()[0]\n",
    "\n",
    "print(f\"✅ Successfully inserted {nbastats_count} rows into nba_stats_2022.\")\n",
    "print(f\"✅ Successfully inserted {pbpstats_count} rows into pbp_stats_2022.\")\n",
    "\n",
    "# Close connection\n",
    "conn.close()\n"
   ]
  },
  {
   "cell_type": "code",
   "execution_count": null,
   "metadata": {},
   "outputs": [],
   "source": [
    "client = OpenAI(organization='org-ixwhtUweym8awcsuUS7A1EeE')\n",
    "\n",
    "response = client.chat.completions.create(\n",
    "    model=\"gpt-3.5-turbo\",\n",
    "    messages=[{\"role\": \"user\", \"content\": \"Hello, how are you?\"}]\n",
    ")\n",
    "\n"
   ]
  },
  {
   "cell_type": "code",
   "execution_count": null,
   "metadata": {},
   "outputs": [],
   "source": [
    "db_path = \"nba_database.sqlite\"\n"
   ]
  },
  {
   "cell_type": "code",
   "execution_count": null,
   "metadata": {},
   "outputs": [],
   "source": [
    "engine = create_engine(f\"sqlite:///{db_path}\")\n",
    "sql_db = SQLDatabase(engine)\n",
    "\n"
   ]
  },
  {
   "cell_type": "code",
   "execution_count": null,
   "metadata": {},
   "outputs": [],
   "source": [
    "with engine.connect() as con:\n",
    "    rows = con.execute(text(\"SELECT PLAYER1_NAME from nba_stats_2022\"))\n",
    "    for row in rows:\n",
    "        print(row)"
   ]
  },
  {
   "cell_type": "code",
   "execution_count": null,
   "metadata": {},
   "outputs": [],
   "source": [
    "\n",
    "\n",
    "llm = OpenAI(temperature=0.1, model=\"gpt-3.5-turbo\")\n"
   ]
  },
  {
   "cell_type": "code",
   "execution_count": null,
   "metadata": {},
   "outputs": [],
   "source": [
    "import sqlite3  # Use MySQL connector if needed\n",
    "import random\n",
    "\n",
    "# Database connection (change for MySQL or other databases)\n",
    "\n",
    "\n",
    "def get_random_row():\n",
    "    try:\n",
    "        # Connect to the database\n",
    "        conn = sqlite3.connect(db_path)\n",
    "        cursor = conn.cursor()\n",
    "\n",
    "        # Query to fetch a random row (for SQLite)\n",
    "        cursor.execute(\"SELECT * FROM pbp_stats_2022 ORDER BY RANDOM() LIMIT 1;\")\n",
    "\n",
    "        # Fetch the result\n",
    "        row = cursor.fetchone()\n",
    "        column_names = [desc[0] for desc in cursor.description]\n",
    "\n",
    "        # Close the connection\n",
    "        conn.close()\n",
    "\n",
    "        return dict(zip(column_names, row)) if row else \"No data found.\"\n",
    "\n",
    "\n",
    "    except Exception as e:\n",
    "        return f\"Error: {e}\"\n",
    "\n"
   ]
  },
  {
   "cell_type": "code",
   "execution_count": null,
   "metadata": {},
   "outputs": [],
   "source": [
    "random_row = get_random_row()\n",
    "print(str(random_row))\n"
   ]
  },
  {
   "cell_type": "code",
   "execution_count": null,
   "metadata": {},
   "outputs": [],
   "source": [
    "query_str = f\"\"\"\n",
    "Based on the following live play-by-play event, generate an insightful real-time statistical fact about any player involved.\n",
    "Ensure the fact is based only on data **before this event** and sounds like it is being delivered by a commentator or analyst.\n",
    "\n",
    "Include relevant game context such as:\n",
    "- The **current score, quarter, and time** remaining when the event occurred.\n",
    "- The player's **performance in this game so far** (e.g., points, assists, rebounds).\n",
    "- Comparison to:\n",
    "  1. Their season or career average in the relevant stat category before this game.\n",
    "  2. Their team's or the league's average for the season before this game.\n",
    "  3. Their past performances in similar situations before this game.\n",
    "\n",
    "Make sure the fact is **numerical, relevant, and can be confirmed by the dataset**.\n",
    "Do not reference any data from the future or speculate on upcoming plays.\n",
    "\n",
    "Live Play-By-Play Event:\n",
    "{random_row}\n",
    "\"\"\"\n",
    "\n",
    "\n"
   ]
  },
  {
   "cell_type": "code",
   "execution_count": null,
   "metadata": {},
   "outputs": [],
   "source": [
    "query_str"
   ]
  },
  {
   "cell_type": "code",
   "execution_count": null,
   "metadata": {},
   "outputs": [],
   "source": [
    "import llama_index.core\n",
    "\n",
    "llama_index.core.set_global_handler(\"simple\")\n",
    "\n",
    "query_engine = NLSQLTableQueryEngine(\n",
    "    sql_database=sql_db, tables=[\"pbp_stats_2022\"], llm=llm\n",
    ")\n",
    "\n",
    "\n",
    "response = query_engine.query(query_str)"
   ]
  },
  {
   "cell_type": "code",
   "execution_count": null,
   "metadata": {},
   "outputs": [],
   "source": [
    "response.metadata[\"result\"]"
   ]
  },
  {
   "cell_type": "code",
   "execution_count": null,
   "metadata": {},
   "outputs": [],
   "source": [
    "response.response"
   ]
  }
 ],
 "metadata": {
  "language_info": {
   "name": "python"
  }
 },
 "nbformat": 4,
 "nbformat_minor": 2
}
